{
 "cells": [
  {
   "cell_type": "markdown",
   "id": "87140a80",
   "metadata": {},
   "source": [
    "## Background\n",
    "\n",
    "In order to fully exploit the opportunities in Mobile, we need to understand how customers\n",
    "are using Mobile devices, to help us to:\n",
    "- Tailor the app and mobile website to the needs of our customers\n",
    "- Ensure that we have the best selection of hotels available for Mobile users\n",
    "- Target our marketing efforts appropriately\n",
    "\n",
    "## Aims\n",
    "\n",
    "Please make a note of, and/or resolve for, any data quality issues that you\n",
    "encounter. Further information about the data is provided in the ‘further details’ section\n",
    "below.\n",
    "We would like you to analyse the data in the Excel spreadsheet and create a 15- minute\n",
    "presentation and a file containing your workings. Please consider:\n",
    "- What does the data suggest regarding how bookings differ by platform and region?\n",
    "- Where are we seeing the most growth?\n",
    "- Please use any other measures that you think will be insightful.\n",
    "- What other data or information would you request to gain additional insight?"
   ]
  },
  {
   "cell_type": "markdown",
   "id": "f2c6a802",
   "metadata": {},
   "source": [
    "Before starting, I initally copied the original file \"Dataset (Data Science- Analytics).xlsx\" and saved it as a csv titled \"expedia_bookings.csv\" to be able to read the data using pandas"
   ]
  },
  {
   "cell_type": "code",
   "execution_count": 2,
   "id": "532814d5",
   "metadata": {},
   "outputs": [
    {
     "data": {
      "text/html": [
       "<div>\n",
       "<style scoped>\n",
       "    .dataframe tbody tr th:only-of-type {\n",
       "        vertical-align: middle;\n",
       "    }\n",
       "\n",
       "    .dataframe tbody tr th {\n",
       "        vertical-align: top;\n",
       "    }\n",
       "\n",
       "    .dataframe thead th {\n",
       "        text-align: right;\n",
       "    }\n",
       "</style>\n",
       "<table border=\"1\" class=\"dataframe\">\n",
       "  <thead>\n",
       "    <tr style=\"text-align: right;\">\n",
       "      <th></th>\n",
       "      <th>Week</th>\n",
       "      <th>Mobile Indicator Name</th>\n",
       "      <th>Platform Type Name</th>\n",
       "      <th>Super Region</th>\n",
       "      <th>Country Name</th>\n",
       "      <th>Booking Window Group</th>\n",
       "      <th>Property Country</th>\n",
       "      <th>Net Gross Booking Value USD</th>\n",
       "      <th>Net Orders</th>\n",
       "      <th>Unnamed: 9</th>\n",
       "      <th>Unnamed: 10</th>\n",
       "    </tr>\n",
       "  </thead>\n",
       "  <tbody>\n",
       "    <tr>\n",
       "      <th>0</th>\n",
       "      <td>2016-W45</td>\n",
       "      <td>Desktop</td>\n",
       "      <td>Desktop</td>\n",
       "      <td>APAC</td>\n",
       "      <td>South Korea</td>\n",
       "      <td>8-14 days</td>\n",
       "      <td>Algeria</td>\n",
       "      <td>$-608</td>\n",
       "      <td>-3</td>\n",
       "      <td>NaN</td>\n",
       "      <td>NaN</td>\n",
       "    </tr>\n",
       "    <tr>\n",
       "      <th>1</th>\n",
       "      <td>2016-W45</td>\n",
       "      <td>Desktop</td>\n",
       "      <td>Desktop</td>\n",
       "      <td>APAC</td>\n",
       "      <td>South Korea</td>\n",
       "      <td>+90 days</td>\n",
       "      <td>Andorra</td>\n",
       "      <td>$-512</td>\n",
       "      <td>-2</td>\n",
       "      <td>NaN</td>\n",
       "      <td>NaN</td>\n",
       "    </tr>\n",
       "    <tr>\n",
       "      <th>2</th>\n",
       "      <td>2016-W45</td>\n",
       "      <td>Desktop</td>\n",
       "      <td>Desktop</td>\n",
       "      <td>APAC</td>\n",
       "      <td>South Korea</td>\n",
       "      <td>46-60 days</td>\n",
       "      <td>Andorra</td>\n",
       "      <td>$103</td>\n",
       "      <td>1</td>\n",
       "      <td>NaN</td>\n",
       "      <td>NaN</td>\n",
       "    </tr>\n",
       "    <tr>\n",
       "      <th>3</th>\n",
       "      <td>2016-W45</td>\n",
       "      <td>Desktop</td>\n",
       "      <td>Desktop</td>\n",
       "      <td>APAC</td>\n",
       "      <td>Australia</td>\n",
       "      <td>31-45 days</td>\n",
       "      <td>Argentina</td>\n",
       "      <td>$396</td>\n",
       "      <td>1</td>\n",
       "      <td>NaN</td>\n",
       "      <td>NaN</td>\n",
       "    </tr>\n",
       "    <tr>\n",
       "      <th>4</th>\n",
       "      <td>2016-W45</td>\n",
       "      <td>Desktop</td>\n",
       "      <td>Desktop</td>\n",
       "      <td>APAC</td>\n",
       "      <td>Australia</td>\n",
       "      <td>15-30 days</td>\n",
       "      <td>Argentina</td>\n",
       "      <td>$373</td>\n",
       "      <td>1</td>\n",
       "      <td>NaN</td>\n",
       "      <td>NaN</td>\n",
       "    </tr>\n",
       "    <tr>\n",
       "      <th>...</th>\n",
       "      <td>...</td>\n",
       "      <td>...</td>\n",
       "      <td>...</td>\n",
       "      <td>...</td>\n",
       "      <td>...</td>\n",
       "      <td>...</td>\n",
       "      <td>...</td>\n",
       "      <td>...</td>\n",
       "      <td>...</td>\n",
       "      <td>...</td>\n",
       "      <td>...</td>\n",
       "    </tr>\n",
       "    <tr>\n",
       "      <th>73683</th>\n",
       "      <td>2017-W48</td>\n",
       "      <td>Mobile</td>\n",
       "      <td>Mobile Web</td>\n",
       "      <td>NaN</td>\n",
       "      <td>US</td>\n",
       "      <td>15-30 days</td>\n",
       "      <td>Vietnam</td>\n",
       "      <td>$748</td>\n",
       "      <td>6</td>\n",
       "      <td>NaN</td>\n",
       "      <td>NaN</td>\n",
       "    </tr>\n",
       "    <tr>\n",
       "      <th>73684</th>\n",
       "      <td>2017-W48</td>\n",
       "      <td>Mobile</td>\n",
       "      <td>Mobile Web</td>\n",
       "      <td>NaN</td>\n",
       "      <td>US</td>\n",
       "      <td>31-45 days</td>\n",
       "      <td>Vietnam</td>\n",
       "      <td>$2,380</td>\n",
       "      <td>7</td>\n",
       "      <td>NaN</td>\n",
       "      <td>NaN</td>\n",
       "    </tr>\n",
       "    <tr>\n",
       "      <th>73685</th>\n",
       "      <td>2017-W48</td>\n",
       "      <td>Mobile</td>\n",
       "      <td>Mobile Web</td>\n",
       "      <td>NaN</td>\n",
       "      <td>US</td>\n",
       "      <td>46-60 days</td>\n",
       "      <td>Vietnam</td>\n",
       "      <td>$67</td>\n",
       "      <td>1</td>\n",
       "      <td>NaN</td>\n",
       "      <td>NaN</td>\n",
       "    </tr>\n",
       "    <tr>\n",
       "      <th>73686</th>\n",
       "      <td>2017-W48</td>\n",
       "      <td>Mobile</td>\n",
       "      <td>Mobile Web</td>\n",
       "      <td>NaN</td>\n",
       "      <td>US</td>\n",
       "      <td>8-14 days</td>\n",
       "      <td>Vietnam</td>\n",
       "      <td>$591</td>\n",
       "      <td>2</td>\n",
       "      <td>NaN</td>\n",
       "      <td>NaN</td>\n",
       "    </tr>\n",
       "    <tr>\n",
       "      <th>73687</th>\n",
       "      <td>2017-W48</td>\n",
       "      <td>Mobile</td>\n",
       "      <td>Mobile Web</td>\n",
       "      <td>NaN</td>\n",
       "      <td>US</td>\n",
       "      <td>+90 days</td>\n",
       "      <td>Vietnam</td>\n",
       "      <td>$-70</td>\n",
       "      <td>1</td>\n",
       "      <td>NaN</td>\n",
       "      <td>NaN</td>\n",
       "    </tr>\n",
       "  </tbody>\n",
       "</table>\n",
       "<p>73688 rows × 11 columns</p>\n",
       "</div>"
      ],
      "text/plain": [
       "           Week Mobile Indicator Name Platform Type Name Super Region  \\\n",
       "0      2016-W45               Desktop            Desktop         APAC   \n",
       "1      2016-W45               Desktop            Desktop         APAC   \n",
       "2      2016-W45               Desktop            Desktop         APAC   \n",
       "3      2016-W45               Desktop            Desktop         APAC   \n",
       "4      2016-W45               Desktop            Desktop         APAC   \n",
       "...         ...                   ...                ...          ...   \n",
       "73683  2017-W48                Mobile         Mobile Web          NaN   \n",
       "73684  2017-W48                Mobile         Mobile Web          NaN   \n",
       "73685  2017-W48                Mobile         Mobile Web          NaN   \n",
       "73686  2017-W48                Mobile         Mobile Web          NaN   \n",
       "73687  2017-W48                Mobile         Mobile Web          NaN   \n",
       "\n",
       "      Country Name Booking Window Group Property Country  \\\n",
       "0      South Korea            8-14 days          Algeria   \n",
       "1      South Korea             +90 days          Andorra   \n",
       "2      South Korea           46-60 days          Andorra   \n",
       "3        Australia           31-45 days        Argentina   \n",
       "4        Australia           15-30 days        Argentina   \n",
       "...            ...                  ...              ...   \n",
       "73683           US           15-30 days          Vietnam   \n",
       "73684           US           31-45 days          Vietnam   \n",
       "73685           US           46-60 days          Vietnam   \n",
       "73686           US            8-14 days          Vietnam   \n",
       "73687           US             +90 days          Vietnam   \n",
       "\n",
       "       Net Gross Booking Value USD   Net Orders  Unnamed: 9  Unnamed: 10  \n",
       "0                            $-608           -3         NaN          NaN  \n",
       "1                            $-512           -2         NaN          NaN  \n",
       "2                             $103            1         NaN          NaN  \n",
       "3                             $396            1         NaN          NaN  \n",
       "4                             $373            1         NaN          NaN  \n",
       "...                             ...         ...         ...          ...  \n",
       "73683                         $748            6         NaN          NaN  \n",
       "73684                       $2,380            7         NaN          NaN  \n",
       "73685                          $67            1         NaN          NaN  \n",
       "73686                         $591            2         NaN          NaN  \n",
       "73687                         $-70            1         NaN          NaN  \n",
       "\n",
       "[73688 rows x 11 columns]"
      ]
     },
     "execution_count": 2,
     "metadata": {},
     "output_type": "execute_result"
    }
   ],
   "source": [
    "import pandas as pd\n",
    "\n",
    "# Upload the dataset as a dataframe\n",
    "booking_data = pd.read_csv(\"expedia_bookings.csv\")\n",
    "\n",
    "# Inspect\n",
    "booking_data"
   ]
  },
  {
   "cell_type": "markdown",
   "id": "620f3d33",
   "metadata": {},
   "source": [
    "## Column Definitions\n",
    "\n",
    "**Week**: The year and week that the booking took place. 2016-W45 is the week beginning 07/11/2016\n",
    "\n",
    "**Mobile Indicator Name**: Type of device used - Either Mobile or Desktop\n",
    "\n",
    "**Platform Type Name**: Type of device used to make the booking - Desktop computer, Mobile App (on a Smartphone or Tablet device), or our Mobile website (on a Smartphone or Tablet device)\n",
    "\n",
    "**Super Region**: The region that the traveler originates from (North America, Asia-Pacific, Europe Middle East & Africa or Latin America)\n",
    "\n",
    "**Country Name**: Country the traveler originates from\n",
    "\n",
    "**Booking Window Group**: Refers to the number of days between the customer booking and checking into the hotel. E.g. if a customer booked a trip on January 1st and checked in on January 10th, the booking window would be 9 days\n",
    "\n",
    "**Property Country**: The country in which the booked hotel is located\n",
    "\n",
    "**Net Gross Booking Value**: The total $ amount that customers pay to Hotels.com for their hotel reservation. The value of cancelled bookings is removed\n",
    "\n",
    "**Net Orders**: The total number of hotel bookings made - the number of bookings cancelled\n",
    "\n",
    "Important Notes\n",
    "\n",
    "Each row represents a group of people. Keep note that there may be more cancellations than bookings, or the value of cancellations may be higher than the value of bookings, which means that the Net Orders and Net Gross Booking value may be in minus.\n",
    "\n",
    "It is also important to note that the booking value is rounded to the nearest dollar and empty values are '-'"
   ]
  },
  {
   "cell_type": "markdown",
   "id": "939404fd",
   "metadata": {},
   "source": [
    "From loking at the data, there are two extra columns with NaN values that we do not need. This error must have been due to changing the xlsx file to csv?\n",
    "\n",
    "From face level inspection, we can also see that there are some NaN values in the Super Region Column."
   ]
  },
  {
   "cell_type": "code",
   "execution_count": 3,
   "id": "bf02c8a4",
   "metadata": {},
   "outputs": [
    {
     "data": {
      "text/html": [
       "<div>\n",
       "<style scoped>\n",
       "    .dataframe tbody tr th:only-of-type {\n",
       "        vertical-align: middle;\n",
       "    }\n",
       "\n",
       "    .dataframe tbody tr th {\n",
       "        vertical-align: top;\n",
       "    }\n",
       "\n",
       "    .dataframe thead th {\n",
       "        text-align: right;\n",
       "    }\n",
       "</style>\n",
       "<table border=\"1\" class=\"dataframe\">\n",
       "  <thead>\n",
       "    <tr style=\"text-align: right;\">\n",
       "      <th></th>\n",
       "      <th>Week</th>\n",
       "      <th>Mobile Indicator Name</th>\n",
       "      <th>Platform Type Name</th>\n",
       "      <th>Super Region</th>\n",
       "      <th>Country Name</th>\n",
       "      <th>Booking Window Group</th>\n",
       "      <th>Property Country</th>\n",
       "      <th>Net Gross Booking Value USD</th>\n",
       "      <th>Net Orders</th>\n",
       "    </tr>\n",
       "  </thead>\n",
       "  <tbody>\n",
       "    <tr>\n",
       "      <th>0</th>\n",
       "      <td>2016-W45</td>\n",
       "      <td>Desktop</td>\n",
       "      <td>Desktop</td>\n",
       "      <td>APAC</td>\n",
       "      <td>South Korea</td>\n",
       "      <td>8-14 days</td>\n",
       "      <td>Algeria</td>\n",
       "      <td>$-608</td>\n",
       "      <td>-3</td>\n",
       "    </tr>\n",
       "    <tr>\n",
       "      <th>1</th>\n",
       "      <td>2016-W45</td>\n",
       "      <td>Desktop</td>\n",
       "      <td>Desktop</td>\n",
       "      <td>APAC</td>\n",
       "      <td>South Korea</td>\n",
       "      <td>+90 days</td>\n",
       "      <td>Andorra</td>\n",
       "      <td>$-512</td>\n",
       "      <td>-2</td>\n",
       "    </tr>\n",
       "    <tr>\n",
       "      <th>2</th>\n",
       "      <td>2016-W45</td>\n",
       "      <td>Desktop</td>\n",
       "      <td>Desktop</td>\n",
       "      <td>APAC</td>\n",
       "      <td>South Korea</td>\n",
       "      <td>46-60 days</td>\n",
       "      <td>Andorra</td>\n",
       "      <td>$103</td>\n",
       "      <td>1</td>\n",
       "    </tr>\n",
       "    <tr>\n",
       "      <th>3</th>\n",
       "      <td>2016-W45</td>\n",
       "      <td>Desktop</td>\n",
       "      <td>Desktop</td>\n",
       "      <td>APAC</td>\n",
       "      <td>Australia</td>\n",
       "      <td>31-45 days</td>\n",
       "      <td>Argentina</td>\n",
       "      <td>$396</td>\n",
       "      <td>1</td>\n",
       "    </tr>\n",
       "    <tr>\n",
       "      <th>4</th>\n",
       "      <td>2016-W45</td>\n",
       "      <td>Desktop</td>\n",
       "      <td>Desktop</td>\n",
       "      <td>APAC</td>\n",
       "      <td>Australia</td>\n",
       "      <td>15-30 days</td>\n",
       "      <td>Argentina</td>\n",
       "      <td>$373</td>\n",
       "      <td>1</td>\n",
       "    </tr>\n",
       "  </tbody>\n",
       "</table>\n",
       "</div>"
      ],
      "text/plain": [
       "       Week Mobile Indicator Name Platform Type Name Super Region  \\\n",
       "0  2016-W45               Desktop            Desktop         APAC   \n",
       "1  2016-W45               Desktop            Desktop         APAC   \n",
       "2  2016-W45               Desktop            Desktop         APAC   \n",
       "3  2016-W45               Desktop            Desktop         APAC   \n",
       "4  2016-W45               Desktop            Desktop         APAC   \n",
       "\n",
       "  Country Name Booking Window Group Property Country  \\\n",
       "0  South Korea            8-14 days          Algeria   \n",
       "1  South Korea             +90 days          Andorra   \n",
       "2  South Korea           46-60 days          Andorra   \n",
       "3    Australia           31-45 days        Argentina   \n",
       "4    Australia           15-30 days        Argentina   \n",
       "\n",
       "   Net Gross Booking Value USD   Net Orders  \n",
       "0                        $-608           -3  \n",
       "1                        $-512           -2  \n",
       "2                         $103            1  \n",
       "3                         $396            1  \n",
       "4                         $373            1  "
      ]
     },
     "execution_count": 3,
     "metadata": {},
     "output_type": "execute_result"
    }
   ],
   "source": [
    "# Delete the NaN columns\n",
    "del booking_data['Unnamed: 9']\n",
    "del booking_data['Unnamed: 10']\n",
    "\n",
    "booking_data.head(5)"
   ]
  },
  {
   "cell_type": "code",
   "execution_count": 4,
   "id": "cfeb6d86",
   "metadata": {},
   "outputs": [
    {
     "data": {
      "text/plain": [
       "Week                             False\n",
       "Mobile Indicator Name            False\n",
       "Platform Type Name               False\n",
       "Super Region                      True\n",
       "Country Name                     False\n",
       "Booking Window Group             False\n",
       "Property Country                 False\n",
       " Net Gross Booking Value USD     False\n",
       "Net Orders                       False\n",
       "dtype: bool"
      ]
     },
     "execution_count": 4,
     "metadata": {},
     "output_type": "execute_result"
    }
   ],
   "source": [
    "# Further investigate if there are any other NaN values\n",
    "booking_data.isna().any()"
   ]
  },
  {
   "cell_type": "code",
   "execution_count": 5,
   "id": "e49ccd76",
   "metadata": {},
   "outputs": [
    {
     "data": {
      "text/plain": [
       "20265"
      ]
     },
     "execution_count": 5,
     "metadata": {},
     "output_type": "execute_result"
    }
   ],
   "source": [
    "# Count how many NaN values there are in teh Super Region Column\n",
    "booking_data['Super Region'].isna().sum()"
   ]
  },
  {
   "cell_type": "code",
   "execution_count": 6,
   "id": "39bddbe3",
   "metadata": {},
   "outputs": [
    {
     "data": {
      "text/plain": [
       "array(['APAC', 'EMEA', 'LATAM', nan], dtype=object)"
      ]
     },
     "execution_count": 6,
     "metadata": {},
     "output_type": "execute_result"
    }
   ],
   "source": [
    "# Does the column contain all the super regions we expect it to?\n",
    "pd.unique(booking_data['Super Region'])"
   ]
  },
  {
   "cell_type": "markdown",
   "id": "b010c9a0",
   "metadata": {},
   "source": [
    "I expect the super region column to have the following categories: \n",
    "- North America (NA)\n",
    "- Asia-Pacific (APAC)\n",
    "- Europe Middle East &amp (EMEA)\n",
    "- Africa or Latin America (LATAM)\n",
    "\n",
    "From what I can see, the data is missing North America (NA) regions being defined. However, we should still investigate this further to check whether other coutries outside of NA have an associated super region defined or not. This will show whether  all NaN values are are supposed to be NA."
   ]
  },
  {
   "cell_type": "code",
   "execution_count": 7,
   "id": "beb38c5f",
   "metadata": {},
   "outputs": [
    {
     "data": {
      "text/plain": [
       "US                20265\n",
       "United Kingdom    14873\n",
       "South Korea        9878\n",
       "Norway             8604\n",
       "Australia          7225\n",
       "Hong Kong          6702\n",
       "Brazil             6141\n",
       "Name: Country Name, dtype: int64"
      ]
     },
     "execution_count": 7,
     "metadata": {},
     "output_type": "execute_result"
    }
   ],
   "source": [
    "# Look at the different countries and how many rows they are in\n",
    "booking_data['Country Name'].value_counts()"
   ]
  },
  {
   "cell_type": "code",
   "execution_count": 8,
   "id": "d1bc98ae",
   "metadata": {},
   "outputs": [
    {
     "data": {
      "text/plain": [
       "US    20265\n",
       "Name: Country Name, dtype: int64"
      ]
     },
     "execution_count": 8,
     "metadata": {},
     "output_type": "execute_result"
    }
   ],
   "source": [
    "# Look at which countries are not associated with a super region to double check\n",
    "na_supers = booking_data[booking_data['Super Region'].isna()]\n",
    "\n",
    "na_supers['Country Name'].value_counts()"
   ]
  },
  {
   "cell_type": "markdown",
   "id": "fabb3bcb",
   "metadata": {},
   "source": [
    "Overall, there are the same number of rows with NaN values in the Super region column as rows that have US in the country name column. Furthermore, all NaN data have US as their country name and is not associated with any other super regions in the data.\n",
    "\n",
    "Therefore, this confirms that all NaN values present in the super region column are meant to be North America (NA). "
   ]
  },
  {
   "cell_type": "code",
   "execution_count": 9,
   "id": "32c81764",
   "metadata": {},
   "outputs": [
    {
     "data": {
      "text/plain": [
       "APAC     23805\n",
       "EMEA     23477\n",
       "NA       20265\n",
       "LATAM     6141\n",
       "Name: Super Region, dtype: int64"
      ]
     },
     "execution_count": 9,
     "metadata": {},
     "output_type": "execute_result"
    }
   ],
   "source": [
    "# Fill all NaN values to be North America (NA)\n",
    "booking_data['Super Region'].fillna('NA', inplace=True)\n",
    "\n",
    "# Double check if all NaN values have been filled\n",
    "booking_data['Super Region'].value_counts().head(10)"
   ]
  },
  {
   "cell_type": "markdown",
   "id": "6b263daa",
   "metadata": {},
   "source": [
    "Create a new column to change the dates to week beginning. This will help up investigate the growth of bookings over time."
   ]
  },
  {
   "cell_type": "code",
   "execution_count": 10,
   "id": "c095c934",
   "metadata": {},
   "outputs": [
    {
     "data": {
      "text/html": [
       "<div>\n",
       "<style scoped>\n",
       "    .dataframe tbody tr th:only-of-type {\n",
       "        vertical-align: middle;\n",
       "    }\n",
       "\n",
       "    .dataframe tbody tr th {\n",
       "        vertical-align: top;\n",
       "    }\n",
       "\n",
       "    .dataframe thead th {\n",
       "        text-align: right;\n",
       "    }\n",
       "</style>\n",
       "<table border=\"1\" class=\"dataframe\">\n",
       "  <thead>\n",
       "    <tr style=\"text-align: right;\">\n",
       "      <th></th>\n",
       "      <th>Week</th>\n",
       "      <th>Mobile Indicator Name</th>\n",
       "      <th>Platform Type Name</th>\n",
       "      <th>Super Region</th>\n",
       "      <th>Country Name</th>\n",
       "      <th>Booking Window Group</th>\n",
       "      <th>Property Country</th>\n",
       "      <th>Net Gross Booking Value USD</th>\n",
       "      <th>Net Orders</th>\n",
       "      <th>Week Beginning</th>\n",
       "    </tr>\n",
       "  </thead>\n",
       "  <tbody>\n",
       "    <tr>\n",
       "      <th>0</th>\n",
       "      <td>2016-W45</td>\n",
       "      <td>Desktop</td>\n",
       "      <td>Desktop</td>\n",
       "      <td>APAC</td>\n",
       "      <td>South Korea</td>\n",
       "      <td>8-14 days</td>\n",
       "      <td>Algeria</td>\n",
       "      <td>$-608</td>\n",
       "      <td>-3</td>\n",
       "      <td>2016-11-07</td>\n",
       "    </tr>\n",
       "    <tr>\n",
       "      <th>1</th>\n",
       "      <td>2016-W45</td>\n",
       "      <td>Desktop</td>\n",
       "      <td>Desktop</td>\n",
       "      <td>APAC</td>\n",
       "      <td>South Korea</td>\n",
       "      <td>+90 days</td>\n",
       "      <td>Andorra</td>\n",
       "      <td>$-512</td>\n",
       "      <td>-2</td>\n",
       "      <td>2016-11-07</td>\n",
       "    </tr>\n",
       "    <tr>\n",
       "      <th>2</th>\n",
       "      <td>2016-W45</td>\n",
       "      <td>Desktop</td>\n",
       "      <td>Desktop</td>\n",
       "      <td>APAC</td>\n",
       "      <td>South Korea</td>\n",
       "      <td>46-60 days</td>\n",
       "      <td>Andorra</td>\n",
       "      <td>$103</td>\n",
       "      <td>1</td>\n",
       "      <td>2016-11-07</td>\n",
       "    </tr>\n",
       "    <tr>\n",
       "      <th>3</th>\n",
       "      <td>2016-W45</td>\n",
       "      <td>Desktop</td>\n",
       "      <td>Desktop</td>\n",
       "      <td>APAC</td>\n",
       "      <td>Australia</td>\n",
       "      <td>31-45 days</td>\n",
       "      <td>Argentina</td>\n",
       "      <td>$396</td>\n",
       "      <td>1</td>\n",
       "      <td>2016-11-07</td>\n",
       "    </tr>\n",
       "    <tr>\n",
       "      <th>4</th>\n",
       "      <td>2016-W45</td>\n",
       "      <td>Desktop</td>\n",
       "      <td>Desktop</td>\n",
       "      <td>APAC</td>\n",
       "      <td>Australia</td>\n",
       "      <td>15-30 days</td>\n",
       "      <td>Argentina</td>\n",
       "      <td>$373</td>\n",
       "      <td>1</td>\n",
       "      <td>2016-11-07</td>\n",
       "    </tr>\n",
       "  </tbody>\n",
       "</table>\n",
       "</div>"
      ],
      "text/plain": [
       "       Week Mobile Indicator Name Platform Type Name Super Region  \\\n",
       "0  2016-W45               Desktop            Desktop         APAC   \n",
       "1  2016-W45               Desktop            Desktop         APAC   \n",
       "2  2016-W45               Desktop            Desktop         APAC   \n",
       "3  2016-W45               Desktop            Desktop         APAC   \n",
       "4  2016-W45               Desktop            Desktop         APAC   \n",
       "\n",
       "  Country Name Booking Window Group Property Country  \\\n",
       "0  South Korea            8-14 days          Algeria   \n",
       "1  South Korea             +90 days          Andorra   \n",
       "2  South Korea           46-60 days          Andorra   \n",
       "3    Australia           31-45 days        Argentina   \n",
       "4    Australia           15-30 days        Argentina   \n",
       "\n",
       "   Net Gross Booking Value USD   Net Orders Week Beginning  \n",
       "0                        $-608           -3     2016-11-07  \n",
       "1                        $-512           -2     2016-11-07  \n",
       "2                         $103            1     2016-11-07  \n",
       "3                         $396            1     2016-11-07  \n",
       "4                         $373            1     2016-11-07  "
      ]
     },
     "execution_count": 10,
     "metadata": {},
     "output_type": "execute_result"
    }
   ],
   "source": [
    "import datetime\n",
    "\n",
    "# New column called week beginning (this may take a little longer to load due to the loop)\n",
    "for lab, row in booking_data.iterrows():\n",
    "    \n",
    "    # Takes the 'Week' Column and finds the date beginning on that week\n",
    "    booking_data.loc[lab,'Week Beginning'] = datetime.datetime.strptime(booking_data.loc[lab, 'Week'] + '-1', \"%Y-W%W-%w\")\n",
    "\n",
    "# Inspect\n",
    "booking_data.head(5)"
   ]
  },
  {
   "cell_type": "markdown",
   "id": "4d862950",
   "metadata": {},
   "source": [
    "Remove the 'days' section of the booking windows to remove unnecessary data and convert the Net Booking Value USD to integers by first removing the unnecessary characters. Then also change the values that are accidently assigned '-' or '-0'."
   ]
  },
  {
   "cell_type": "code",
   "execution_count": 18,
   "id": "8d483a7b",
   "metadata": {},
   "outputs": [],
   "source": [
    "# Standardise the window group column by removing the 'days'\n",
    "booking_data['Booking Window Group'] = booking_data['Booking Window Group'].str.replace(' days', '')\n",
    "\n",
    "# Take the dollar sign away from the booking value and the leading and trailing whitespaces\n",
    "booking_data[' Net Gross Booking Value USD '] = booking_data[' Net Gross Booking Value USD '].str.replace('$', '', regex=False).str.strip()\n",
    "booking_data[' Net Gross Booking Value USD '] = booking_data[' Net Gross Booking Value USD '].str.replace(',', '', regex=False)\n",
    "\n",
    "# Convert the -0 values to 0 (These were originally negative floats that were rounded to 0)\n",
    "booking_data[' Net Gross Booking Value USD '] = booking_data[' Net Gross Booking Value USD '].replace(['-', '-0'], '0')"
   ]
  },
  {
   "cell_type": "code",
   "execution_count": 19,
   "id": "ec97dd1f",
   "metadata": {},
   "outputs": [
    {
     "data": {
      "text/plain": [
       "Week                                     object\n",
       "Mobile Indicator Name                    object\n",
       "Platform Type Name                       object\n",
       "Super Region                             object\n",
       "Country Name                             object\n",
       "Booking Window Group                     object\n",
       "Property Country                         object\n",
       " Net Gross Booking Value USD              int32\n",
       "Net Orders                                int64\n",
       "Week Beginning                   datetime64[ns]\n",
       "dtype: object"
      ]
     },
     "execution_count": 19,
     "metadata": {},
     "output_type": "execute_result"
    }
   ],
   "source": [
    "# Convert the Net Gross Booking Value to integers instead of strings\n",
    "booking_data[' Net Gross Booking Value USD '] = booking_data[' Net Gross Booking Value USD '].astype('int')\n",
    "\n",
    "# Check if all columns have the correct data type for further analysis\n",
    "booking_data.dtypes"
   ]
  },
  {
   "cell_type": "code",
   "execution_count": 20,
   "id": "ff9a006b",
   "metadata": {},
   "outputs": [
    {
     "data": {
      "text/html": [
       "<div>\n",
       "<style scoped>\n",
       "    .dataframe tbody tr th:only-of-type {\n",
       "        vertical-align: middle;\n",
       "    }\n",
       "\n",
       "    .dataframe tbody tr th {\n",
       "        vertical-align: top;\n",
       "    }\n",
       "\n",
       "    .dataframe thead th {\n",
       "        text-align: right;\n",
       "    }\n",
       "</style>\n",
       "<table border=\"1\" class=\"dataframe\">\n",
       "  <thead>\n",
       "    <tr style=\"text-align: right;\">\n",
       "      <th></th>\n",
       "      <th>Week</th>\n",
       "      <th>Mobile Indicator Name</th>\n",
       "      <th>Platform Type Name</th>\n",
       "      <th>Super Region</th>\n",
       "      <th>Country Name</th>\n",
       "      <th>Booking Window Group</th>\n",
       "      <th>Property Country</th>\n",
       "      <th>Net Gross Booking Value USD</th>\n",
       "      <th>Net Orders</th>\n",
       "      <th>Week Beginning</th>\n",
       "    </tr>\n",
       "  </thead>\n",
       "  <tbody>\n",
       "    <tr>\n",
       "      <th>0</th>\n",
       "      <td>2016-W45</td>\n",
       "      <td>Desktop</td>\n",
       "      <td>Desktop</td>\n",
       "      <td>APAC</td>\n",
       "      <td>South Korea</td>\n",
       "      <td>8-14</td>\n",
       "      <td>Algeria</td>\n",
       "      <td>-608</td>\n",
       "      <td>-3</td>\n",
       "      <td>2016-11-07</td>\n",
       "    </tr>\n",
       "    <tr>\n",
       "      <th>1</th>\n",
       "      <td>2016-W45</td>\n",
       "      <td>Desktop</td>\n",
       "      <td>Desktop</td>\n",
       "      <td>APAC</td>\n",
       "      <td>South Korea</td>\n",
       "      <td>+90</td>\n",
       "      <td>Andorra</td>\n",
       "      <td>-512</td>\n",
       "      <td>-2</td>\n",
       "      <td>2016-11-07</td>\n",
       "    </tr>\n",
       "    <tr>\n",
       "      <th>2</th>\n",
       "      <td>2016-W45</td>\n",
       "      <td>Desktop</td>\n",
       "      <td>Desktop</td>\n",
       "      <td>APAC</td>\n",
       "      <td>South Korea</td>\n",
       "      <td>46-60</td>\n",
       "      <td>Andorra</td>\n",
       "      <td>103</td>\n",
       "      <td>1</td>\n",
       "      <td>2016-11-07</td>\n",
       "    </tr>\n",
       "    <tr>\n",
       "      <th>3</th>\n",
       "      <td>2016-W45</td>\n",
       "      <td>Desktop</td>\n",
       "      <td>Desktop</td>\n",
       "      <td>APAC</td>\n",
       "      <td>Australia</td>\n",
       "      <td>31-45</td>\n",
       "      <td>Argentina</td>\n",
       "      <td>396</td>\n",
       "      <td>1</td>\n",
       "      <td>2016-11-07</td>\n",
       "    </tr>\n",
       "    <tr>\n",
       "      <th>4</th>\n",
       "      <td>2016-W45</td>\n",
       "      <td>Desktop</td>\n",
       "      <td>Desktop</td>\n",
       "      <td>APAC</td>\n",
       "      <td>Australia</td>\n",
       "      <td>15-30</td>\n",
       "      <td>Argentina</td>\n",
       "      <td>373</td>\n",
       "      <td>1</td>\n",
       "      <td>2016-11-07</td>\n",
       "    </tr>\n",
       "    <tr>\n",
       "      <th>5</th>\n",
       "      <td>2016-W45</td>\n",
       "      <td>Desktop</td>\n",
       "      <td>Desktop</td>\n",
       "      <td>APAC</td>\n",
       "      <td>Australia</td>\n",
       "      <td>8-14</td>\n",
       "      <td>Argentina</td>\n",
       "      <td>201</td>\n",
       "      <td>1</td>\n",
       "      <td>2016-11-07</td>\n",
       "    </tr>\n",
       "    <tr>\n",
       "      <th>6</th>\n",
       "      <td>2016-W45</td>\n",
       "      <td>Desktop</td>\n",
       "      <td>Desktop</td>\n",
       "      <td>APAC</td>\n",
       "      <td>Australia</td>\n",
       "      <td>+90</td>\n",
       "      <td>Argentina</td>\n",
       "      <td>132</td>\n",
       "      <td>-1</td>\n",
       "      <td>2016-11-07</td>\n",
       "    </tr>\n",
       "    <tr>\n",
       "      <th>7</th>\n",
       "      <td>2016-W45</td>\n",
       "      <td>Desktop</td>\n",
       "      <td>Desktop</td>\n",
       "      <td>APAC</td>\n",
       "      <td>Australia</td>\n",
       "      <td>4-7</td>\n",
       "      <td>Argentina</td>\n",
       "      <td>105</td>\n",
       "      <td>1</td>\n",
       "      <td>2016-11-07</td>\n",
       "    </tr>\n",
       "    <tr>\n",
       "      <th>8</th>\n",
       "      <td>2016-W45</td>\n",
       "      <td>Desktop</td>\n",
       "      <td>Desktop</td>\n",
       "      <td>APAC</td>\n",
       "      <td>Hong Kong</td>\n",
       "      <td>31-45</td>\n",
       "      <td>Argentina</td>\n",
       "      <td>209</td>\n",
       "      <td>1</td>\n",
       "      <td>2016-11-07</td>\n",
       "    </tr>\n",
       "    <tr>\n",
       "      <th>9</th>\n",
       "      <td>2016-W45</td>\n",
       "      <td>Desktop</td>\n",
       "      <td>Desktop</td>\n",
       "      <td>APAC</td>\n",
       "      <td>Hong Kong</td>\n",
       "      <td>46-60</td>\n",
       "      <td>Argentina</td>\n",
       "      <td>139</td>\n",
       "      <td>1</td>\n",
       "      <td>2016-11-07</td>\n",
       "    </tr>\n",
       "  </tbody>\n",
       "</table>\n",
       "</div>"
      ],
      "text/plain": [
       "       Week Mobile Indicator Name Platform Type Name Super Region  \\\n",
       "0  2016-W45               Desktop            Desktop         APAC   \n",
       "1  2016-W45               Desktop            Desktop         APAC   \n",
       "2  2016-W45               Desktop            Desktop         APAC   \n",
       "3  2016-W45               Desktop            Desktop         APAC   \n",
       "4  2016-W45               Desktop            Desktop         APAC   \n",
       "5  2016-W45               Desktop            Desktop         APAC   \n",
       "6  2016-W45               Desktop            Desktop         APAC   \n",
       "7  2016-W45               Desktop            Desktop         APAC   \n",
       "8  2016-W45               Desktop            Desktop         APAC   \n",
       "9  2016-W45               Desktop            Desktop         APAC   \n",
       "\n",
       "  Country Name Booking Window Group Property Country  \\\n",
       "0  South Korea                 8-14          Algeria   \n",
       "1  South Korea                  +90          Andorra   \n",
       "2  South Korea                46-60          Andorra   \n",
       "3    Australia                31-45        Argentina   \n",
       "4    Australia                15-30        Argentina   \n",
       "5    Australia                 8-14        Argentina   \n",
       "6    Australia                  +90        Argentina   \n",
       "7    Australia                  4-7        Argentina   \n",
       "8    Hong Kong                31-45        Argentina   \n",
       "9    Hong Kong                46-60        Argentina   \n",
       "\n",
       "    Net Gross Booking Value USD   Net Orders Week Beginning  \n",
       "0                           -608          -3     2016-11-07  \n",
       "1                           -512          -2     2016-11-07  \n",
       "2                            103           1     2016-11-07  \n",
       "3                            396           1     2016-11-07  \n",
       "4                            373           1     2016-11-07  \n",
       "5                            201           1     2016-11-07  \n",
       "6                            132          -1     2016-11-07  \n",
       "7                            105           1     2016-11-07  \n",
       "8                            209           1     2016-11-07  \n",
       "9                            139           1     2016-11-07  "
      ]
     },
     "execution_count": 20,
     "metadata": {},
     "output_type": "execute_result"
    }
   ],
   "source": [
    "# Inspect before movingh on to analysis\n",
    "booking_data.head(10)"
   ]
  },
  {
   "cell_type": "markdown",
   "id": "b5510462",
   "metadata": {},
   "source": [
    "## How do bookings differ by platform?\n",
    "\n",
    "Aim to investigate the differences in:\n",
    "- how many bookings are made\n",
    "- much money is made\n",
    "- popular booking windows\n",
    "- popular destinations\n",
    "- where do they mainly originate from"
   ]
  },
  {
   "cell_type": "code",
   "execution_count": 21,
   "id": "ccba9d42",
   "metadata": {
    "scrolled": false
   },
   "outputs": [
    {
     "data": {
      "text/plain": [
       "<AxesSubplot:xlabel='Platform Type Name', ylabel='Net Orders'>"
      ]
     },
     "execution_count": 21,
     "metadata": {},
     "output_type": "execute_result"
    },
    {
     "data": {
      "image/png": "[encoded data removed]",
      "text/plain": [
       "<Figure size 640x480 with 1 Axes>"
      ]
     },
     "metadata": {},
     "output_type": "display_data"
    }
   ],
   "source": [
    "# How many bookings are made per platform?\n",
    "import seaborn as sns\n",
    "import matplotlib.pyplot as plt\n",
    "\n",
    "platform_orders = booking_data.pivot_table(values = 'Net Orders', index = 'Platform Type Name', aggfunc=sum).reset_index()\n",
    "sns.barplot(data = platform_orders, x = 'Platform Type Name', y = 'Net Orders', palette = 'mako')"
   ]
  },
  {
   "cell_type": "markdown",
   "id": "cb0f97b6",
   "metadata": {},
   "source": [
    "Most bookings are made on desktop, trailing behind is mobile web and then mobile app."
   ]
  },
  {
   "cell_type": "markdown",
   "id": "6030787b",
   "metadata": {},
   "source": [
    "The graphs above show that when separated, most bookings from our data are made on desktop. However, overall there are more bookings made on mobile than desktop when combining the two different platforms."
   ]
  },
  {
   "cell_type": "code",
   "execution_count": 26,
   "id": "3eada072",
   "metadata": {},
   "outputs": [
    {
     "data": {
      "text/plain": [
       "<AxesSubplot:xlabel='Platform Type Name', ylabel=' Net Gross Booking Value USD '>"
      ]
     },
     "execution_count": 26,
     "metadata": {},
     "output_type": "execute_result"
    },
    {
     "data": {
      "image/png": "[encoded data removed]",
      "text/plain": [
       "<Figure size 640x480 with 1 Axes>"
      ]
     },
     "metadata": {},
     "output_type": "display_data"
    }
   ],
   "source": [
    "# How much revenue is made for each platform\n",
    "platform_revenue = booking_data.pivot_table(values = ' Net Gross Booking Value USD ', index = 'Platform Type Name', aggfunc=sum).reset_index()\n",
    "\n",
    "sns.barplot(data = platform_revenue, x = 'Platform Type Name', y = ' Net Gross Booking Value USD ', palette = 'mako')"
   ]
  },
  {
   "cell_type": "markdown",
   "id": "f440316c",
   "metadata": {},
   "source": [
    "The net orders and money spent both match the same patterns, where most customers purchase bookings on the desktop."
   ]
  },
  {
   "cell_type": "code",
   "execution_count": 77,
   "id": "4da92b3a",
   "metadata": {},
   "outputs": [
    {
     "name": "stdout",
     "output_type": "stream",
     "text": [
      "Desktop\n",
      "  window  net orders  percentage\n",
      "1    0-1      570590    0.250538\n",
      "2  15-30      348522    0.153031\n",
      "5    4-7      337696    0.148278\n",
      "Mobile App\n",
      "  window  net orders  percentage\n",
      "1    0-1      286222    0.554115\n",
      "3    2-3       51480    0.099663\n",
      "5    4-7       48710    0.094301\n",
      "Mobile Web\n",
      "  window  net orders  percentage\n",
      "1    0-1      365148    0.493656\n",
      "5    4-7       75562    0.102155\n",
      "3    2-3       74730    0.101030\n"
     ]
    }
   ],
   "source": [
    "# Create list with the different platform names to use in for loop\n",
    "platform_names = list(booking_data['Platform Type Name'].unique())\n",
    "\n",
    "# Initialise a list to append in the for loop with the different datasets\n",
    "platform_dfs = []\n",
    "\n",
    "# Create a list of dataframes, where each data frame is filtered for the different Platform Types\n",
    "for platform in platform_names:\n",
    "    platform_data = booking_data[booking_data['Platform Type Name'] == platform]\n",
    "    platform_dfs.append(platform_data)\n",
    "\n",
    "# Get the top 3 windows for each platform type\n",
    "windowplatform_rankings = []\n",
    "\n",
    "for df in platform_dfs:\n",
    "    window_platform = pd.DataFrame(df.pivot_table(index = 'Booking Window Group', values = 'Net Orders', aggfunc = sum).reset_index())\n",
    "    window_platform.columns = ['Window', 'Net orders']\n",
    "    \n",
    "    # Calculate the sum of total net bookings made for each platform and calculate percentages for new column\n",
    "    total_bookings = sum(window_platform['Net Orders'])\n",
    "    window_platform['Percentage'] = window_platform['Net Orders'] / total_bookings\n",
    "    \n",
    "    windowplatform_rankings.append(window_platform.sort_values('Net Orders', ascending = False))\n",
    "\n",
    "# Print the top 3 of each\n",
    "for i in range(0, len(windowplatform_rankings)):\n",
    "    print(platform_names[i])\n",
    "    print(windowplatform_rankings[i][:3])"
   ]
  },
  {
   "cell_type": "markdown",
   "id": "4159083d",
   "metadata": {},
   "source": [
    "The top windows for all platfroms is 0-1 days, however the percentage of 0-1 windows is much higher for mobile than desktop. This could mean that most customers on desktop plan out their trip more in advance than customers who purchase on the mobile."
   ]
  },
  {
   "cell_type": "code",
   "execution_count": 79,
   "id": "703f2c0f",
   "metadata": {},
   "outputs": [
    {
     "name": "stdout",
     "output_type": "stream",
     "text": [
      "Desktop\n",
      "             Property Country  Net Orders\n",
      "198  United States of America     1530391\n",
      "197            United Kingdom      170110\n",
      "10                  Australia       46830\n",
      "Mobile App\n",
      "             Property Country  Net Orders\n",
      "175  United States of America      349859\n",
      "174            United Kingdom       26939\n",
      "149               South Korea       15314\n",
      "Mobile Web\n",
      "             Property Country  Net Orders\n",
      "171  United States of America      564171\n",
      "170            United Kingdom       52576\n",
      "10                  Australia       13501\n"
     ]
    }
   ],
   "source": [
    "# Most Common destinations chosen by mobile users compared to desktop\n",
    "\n",
    "# Get the top 3 destinations for each platform type\n",
    "destination_platform_rankings = []\n",
    "\n",
    "for df in platform_dfs:\n",
    "    destination_platform = df.pivot_table(index = 'Property Country', values = 'Net Orders', aggfunc = sum).reset_index()\n",
    "    #destination_platform.columns = ['Destination', 'Net Orders']\n",
    "    destination_platform_rankings.append(destination_platform.sort_values('Net Orders', ascending = False))\n",
    "\n",
    "# Print the top 3 of each\n",
    "for i in range(0, len(windowplatform_rankings)):\n",
    "    print(platform_names[i])\n",
    "    print(destination_platform_rankings[i][:3])"
   ]
  },
  {
   "cell_type": "markdown",
   "id": "e9f2730a",
   "metadata": {},
   "source": [
    "Across all 3, the USA top of every list, and the lists for the mobile platforms are the same, with UK, South Korea and Australia trailing after US in the top 3"
   ]
  },
  {
   "cell_type": "code",
   "execution_count": 100,
   "id": "138dccd0",
   "metadata": {},
   "outputs": [
    {
     "name": "stdout",
     "output_type": "stream",
     "text": [
      "                Net Orders  Percentage\n",
      "Country Name                          \n",
      "US                  975257    0.776343\n",
      "United Kingdom      111078    0.088422\n",
      "South Korea          66712    0.053105\n",
      "Hong Kong            31970    0.025449\n",
      "Australia            27504    0.021894\n",
      "Norway               22417    0.017845\n",
      "Brazil               21282    0.016941\n"
     ]
    }
   ],
   "source": [
    "# Where do most mobile transactions come from?\n",
    "mobile_data = pd.DataFrame(booking_data[np.logical_or(booking_data['Platform Type Name'] == 'Mobile App', booking_data['Platform Type Name'] == 'Mobile Web')])\n",
    "\n",
    "mobile_data_country = mobile_data.pivot_table(index = 'Country Name', values = 'Net Orders', aggfunc = sum).sort_values('Net Orders', ascending = False)\n",
    "country_netsum = sum(mobile_data_country['Net Orders'])\n",
    "mobile_data_country['Percentage'] = mobile_data_country['Net Orders'] / country_netsum\n",
    "\n",
    "print(mobile_data_country)"
   ]
  },
  {
   "cell_type": "markdown",
   "id": "5321985c",
   "metadata": {},
   "source": [
    "Mobile bookings are mainly made by customers found in the US, UK and South Korea. However, US is much larger in quantity of bookings compared to the others."
   ]
  },
  {
   "cell_type": "markdown",
   "id": "53d449e2",
   "metadata": {},
   "source": [
    "## Differences between Regions"
   ]
  },
  {
   "cell_type": "code",
   "execution_count": 82,
   "id": "b4891e62",
   "metadata": {},
   "outputs": [
    {
     "data": {
      "text/plain": [
       "<AxesSubplot:xlabel='Super Region', ylabel='Net Orders'>"
      ]
     },
     "execution_count": 82,
     "metadata": {},
     "output_type": "execute_result"
    },
    {
     "data": {
      "image/png": "[encoded data removed]",
      "text/plain": [
       "<Figure size 640x480 with 1 Axes>"
      ]
     },
     "metadata": {},
     "output_type": "display_data"
    }
   ],
   "source": [
    "# How many orders between regions\n",
    "region_orders = booking_data.pivot_table(values = 'Net Orders', index = 'Super Region', aggfunc=sum).reset_index()\n",
    "\n",
    "import seaborn as sns\n",
    "import matplotlib.pyplot as plt\n",
    "\n",
    "sns.barplot(data = region_orders.sort_values('Super Region', ascending = False), x = 'Super Region', y = 'Net Orders', palette = 'ch:s=-.2,r=.6')"
   ]
  },
  {
   "cell_type": "code",
   "execution_count": 83,
   "id": "20ea0867",
   "metadata": {},
   "outputs": [
    {
     "data": {
      "text/plain": [
       "<AxesSubplot:xlabel='Super Region', ylabel=' Net Gross Booking Value USD '>"
      ]
     },
     "execution_count": 83,
     "metadata": {},
     "output_type": "execute_result"
    },
    {
     "data": {
      "image/png": "[encoded data removed]",
      "text/plain": [
       "<Figure size 640x480 with 1 Axes>"
      ]
     },
     "metadata": {},
     "output_type": "display_data"
    }
   ],
   "source": [
    "# How much revenue between regions\n",
    "region_revenue = booking_data.pivot_table(values = ' Net Gross Booking Value USD ', index = 'Super Region', aggfunc=sum).reset_index()\n",
    "\n",
    "sns.barplot(data = region_revenue.sort_values('Super Region', ascending = False), x = 'Super Region', y = ' Net Gross Booking Value USD ', palette = 'ch:s=-.2,r=.6')"
   ]
  },
  {
   "cell_type": "markdown",
   "id": "a1cdcf3a",
   "metadata": {},
   "source": [
    "Net Orders and gross value show a similar pattern where US is the popular area where bookings are made from"
   ]
  },
  {
   "cell_type": "code",
   "execution_count": 104,
   "id": "0da7b72d",
   "metadata": {},
   "outputs": [
    {
     "name": "stdout",
     "output_type": "stream",
     "text": [
      "APAC\n",
      "    Property Country  Net Orders  Percentage\n",
      "8          Australia       58366    0.174639\n",
      "75             Japan       45349    0.135691\n",
      "143      South Korea       43990    0.131624\n",
      "EMEA\n",
      "             Property Country  Net Orders  Percentage\n",
      "183            United Kingdom      225533    0.502917\n",
      "126                    Norway       34466    0.076856\n",
      "184  United States of America       24438    0.054494\n",
      "LATAM\n",
      "             Property Country  Net Orders  Percentage\n",
      "20                     Brazil       52234    0.563960\n",
      "134  United States of America       18346    0.198078\n",
      "62                      Italy        2731    0.029486\n",
      "NA\n",
      "             Property Country  Net Orders  Percentage\n",
      "192  United States of America     2378567    0.894736\n",
      "34                     Canada       30358    0.011420\n",
      "114                    Mexico       23474    0.008830\n"
     ]
    }
   ],
   "source": [
    "# Get the top 3 destinations for each super region within mobile platforms\n",
    "\n",
    "# Get the different region names and create different tables with different super regions\n",
    "region_names = list(pd.unique(booking_data['Super Region']))\n",
    "region_dfs = []\n",
    "\n",
    "for region in region_names:\n",
    "    region_data = booking_data[booking_data['Super Region'] == region]\n",
    "    region_dfs.append(region_data)\n",
    "\n",
    "# Get the top 3 destinations chosen by customers\n",
    "destination_region_rankings = []\n",
    "\n",
    "for df in region_dfs:\n",
    "    filtered_df = df[np.logical_or(df['Platform Type Name'] == 'Mobile App', df['Platform Type Name'] == 'Mobile Web')]\n",
    "    destination_region = df.pivot_table(index = 'Property Country', values = 'Net Orders', aggfunc = sum).reset_index()\n",
    "    total_bookings = sum(destination_region['Net Orders'])\n",
    "    destination_region['Percentage'] = destination_region['Net Orders'] / total_bookings\n",
    "    destination_region_rankings.append(destination_region.sort_values('Net Orders', ascending = False))\n",
    "\n",
    "# Print the top 3 of each\n",
    "for i in range(0, len(destination_region_rankings)):\n",
    "    print(region_names[i])\n",
    "    print(destination_region_rankings[i][:3])"
   ]
  },
  {
   "cell_type": "markdown",
   "id": "914c273f",
   "metadata": {},
   "source": [
    "## Growth"
   ]
  },
  {
   "cell_type": "code",
   "execution_count": 72,
   "id": "1f4c4e5f",
   "metadata": {},
   "outputs": [
    {
     "data": {
      "text/plain": [
       "(array([0, 1, 2, 3, 4, 5, 6, 7]),\n",
       " [Text(0, 0, '2016-11-07'),\n",
       "  Text(1, 0, '2016-11-14'),\n",
       "  Text(2, 0, '2016-11-21'),\n",
       "  Text(3, 0, '2016-11-28'),\n",
       "  Text(4, 0, '2017-11-06'),\n",
       "  Text(5, 0, '2017-11-13'),\n",
       "  Text(6, 0, '2017-11-20'),\n",
       "  Text(7, 0, '2017-11-27')])"
      ]
     },
     "execution_count": 72,
     "metadata": {},
     "output_type": "execute_result"
    },
    {
     "data": {
      "image/png": "[encoded data removed]",
      "text/plain": [
       "<Figure size 640x480 with 1 Axes>"
      ]
     },
     "metadata": {},
     "output_type": "display_data"
    }
   ],
   "source": [
    "# Where are we seeing the most growth?\n",
    "growth_data = booking_data.groupby(['Week Beginning', 'Platform Type Name'])[['Net Orders',' Net Gross Booking Value USD ']].sum().reset_index()\n",
    "\n",
    "# Create a barplot\n",
    "barplot = sns.barplot(x='Week Beginning', y='Net Orders', hue='Platform Type Name', data=growth_data, palette = 'mako')\n",
    "\n",
    "# Change the layout of the legend\n",
    "barplot.legend(loc='center left', bbox_to_anchor=(1, 0.5))\n",
    "\n",
    "# Change the labels so they don't have the time written on the plot\n",
    "labels = [item.get_text() for item in barplot.get_xticklabels()]\n",
    "labels = [item.replace('T00:00:00.000000000', '') for item in labels]\n",
    "\n",
    "# Set the new labels and rotate them to make them clear\n",
    "barplot.set_xticklabels(labels)\n",
    "plt.xticks(rotation=45)"
   ]
  },
  {
   "cell_type": "markdown",
   "id": "a8bfb8d7",
   "metadata": {},
   "source": [
    "From the graph above, we can see there has been a growth in net bookings from 2016 to 2017 and while the desktop bookings have slowly decreased over time in 2017, the mobile bookings remain steady. Therefore, I believe it is worth investing more time into developing a more user friendly experience in holiday booking for mobile use."
   ]
  },
  {
   "cell_type": "code",
   "execution_count": 71,
   "id": "f89b1ed1",
   "metadata": {},
   "outputs": [
    {
     "data": {
      "text/plain": [
       "(array([0, 1, 2, 3, 4, 5, 6, 7]),\n",
       " [Text(0, 0, '2016-11-07'),\n",
       "  Text(1, 0, '2016-11-14'),\n",
       "  Text(2, 0, '2016-11-21'),\n",
       "  Text(3, 0, '2016-11-28'),\n",
       "  Text(4, 0, '2017-11-06'),\n",
       "  Text(5, 0, '2017-11-13'),\n",
       "  Text(6, 0, '2017-11-20'),\n",
       "  Text(7, 0, '2017-11-27')])"
      ]
     },
     "execution_count": 71,
     "metadata": {},
     "output_type": "execute_result"
    },
    {
     "data": {
      "image/png": "[encoded data removed]",
      "text/plain": [
       "<Figure size 640x480 with 1 Axes>"
      ]
     },
     "metadata": {},
     "output_type": "display_data"
    }
   ],
   "source": [
    "region_names = list(pd.unique(booking_data['Super Region']))\n",
    "\n",
    "# Where are we seeing the most growth?\n",
    "growth_data = booking_data.groupby(['Week Beginning', 'Super Region'])[['Net Orders',' Net Gross Booking Value USD ']].sum().reset_index().sort_values(['Super Region', 'Week Beginning'], ascending = [False, True])\n",
    "\n",
    "# Create a barplot\n",
    "growth_region_barplot = sns.barplot(x='Week Beginning', y='Net Orders', hue='Super Region', data=growth_data, palette = 'ch:s=-.2,r=.6')\n",
    "\n",
    "# Change the layout of the legend\n",
    "growth_region_barplot.legend(loc='center left', bbox_to_anchor=(1, 0.5))\n",
    "\n",
    "# Change the labels so they don't have the time written on the plot\n",
    "labels2 = [item.get_text() for item in growth_region_barplot.get_xticklabels()]\n",
    "labels2 = [string.replace('T00:00:00.000000000', '') for string in labels2]\n",
    "\n",
    "\n",
    "# Set the new labels and rotate them to make them clear\n",
    "growth_region_barplot.set_xticklabels(labels2)\n",
    "plt.xticks(rotation=45)"
   ]
  },
  {
   "cell_type": "markdown",
   "id": "9c60f29e",
   "metadata": {},
   "source": [
    "## Evaluations\n",
    "\n",
    "Due to the data only providing the net orders and net booking value, I was unable to make insightful results using significance tests and predictions for the future. The best data set to get the most insight from would be one where each row represents a booking/ cancellation.\n",
    "\n",
    "Furthermore, there are actually only a few weeks of data are given for only two years, despite being a large dataset. This means that while we can analyse the differences over time, the analysis may lead to incorrect assumptions about sales and bookings overall. We also need to consider the fact that bookings may rise and decrease based on school holidays and peak times of the year, so a way to improve the dataset would be to have more data from the same month over several years.\n",
    "\n",
    "There was no information on hotels, so I was unable to provide a clear answer on the aim 'ensure mobile users have acces to the best hotels' "
   ]
  }
 ],
 "metadata": {
  "kernelspec": {
   "display_name": "Python 3 (ipykernel)",
   "language": "python",
   "name": "python3"
  },
  "language_info": {
   "codemirror_mode": {
    "name": "ipython",
    "version": 3
   },
   "file_extension": ".py",
   "mimetype": "text/x-python",
   "name": "python",
   "nbconvert_exporter": "python",
   "pygments_lexer": "ipython3",
   "version": "3.9.13"
  }
 },
 "nbformat": 4,
 "nbformat_minor": 5
}
